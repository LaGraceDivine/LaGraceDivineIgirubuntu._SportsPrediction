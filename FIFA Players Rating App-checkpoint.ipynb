{
 "cells": [
  {
   "cell_type": "code",
   "execution_count": 2,
   "id": "0522d9a1",
   "metadata": {},
   "outputs": [],
   "source": [
    "import streamlit as st\n",
    "import pickle as pkl\n",
    "import pandas as pd"
   ]
  },
  {
   "cell_type": "code",
   "execution_count": 3,
   "id": "5fa797b0",
   "metadata": {},
   "outputs": [
    {
     "ename": "UnpicklingError",
     "evalue": "invalid load key, '\\x0b'.",
     "output_type": "error",
     "traceback": [
      "\u001b[1;31m---------------------------------------------------------------------------\u001b[0m",
      "\u001b[1;31mUnpicklingError\u001b[0m                           Traceback (most recent call last)",
      "Cell \u001b[1;32mIn[3], line 3\u001b[0m\n\u001b[0;32m      1\u001b[0m \u001b[38;5;66;03m#loading the model\u001b[39;00m\n\u001b[0;32m      2\u001b[0m \u001b[38;5;28;01mwith\u001b[39;00m \u001b[38;5;28mopen\u001b[39m(\u001b[38;5;124m'\u001b[39m\u001b[38;5;124mensemble_model.pkl\u001b[39m\u001b[38;5;124m'\u001b[39m,\u001b[38;5;124m'\u001b[39m\u001b[38;5;124mrb\u001b[39m\u001b[38;5;124m'\u001b[39m) \u001b[38;5;28;01mas\u001b[39;00m f:\n\u001b[1;32m----> 3\u001b[0m    ensemble_model \u001b[38;5;241m=\u001b[39m pkl\u001b[38;5;241m.\u001b[39mload(f)\n",
      "\u001b[1;31mUnpicklingError\u001b[0m: invalid load key, '\\x0b'."
     ]
    }
   ],
   "source": [
    "#loading the model\n",
    "with open('ensemble_model.pkl','rb') as f:\n",
    "   ensemble_model = pkl.load(f)"
   ]
  },
  {
   "cell_type": "code",
   "execution_count": null,
   "id": "955ec44a",
   "metadata": {},
   "outputs": [],
   "source": [
    "#function making prediction and return confidence sccore\n",
    "def prediction_and_confidence(input):\n",
    "    prediction = ensemble_model.predict(input)\n",
    "    return prediction"
   ]
  },
  {
   "cell_type": "code",
   "execution_count": null,
   "id": "e088cd2d",
   "metadata": {},
   "outputs": [],
   "source": [
    "#function running streamlit app\n",
    "def main():\n",
    "    st.title('Player Rating Predict')\n",
    "    \n",
    "    #ask input from the user\n",
    "    st.header('Enter player information:')\n",
    "    \n",
    "    #creating a form to hold input\n",
    "    with st.form(\"player_data_form\"):\n",
    "        st.subheader('Basic Information')\n",
    "        col1, col2, col3 = st.columns(3)\n",
    "        \n",
    "        with col1:\n",
    "            age = st.number_input('Age', min_value=16, max_value=50)\n",
    "        with col2:\n",
    "            height_cm = st.number_input('Height (cm)', min_value=100, max_value=200)\n",
    "        with col3:\n",
    "            weight_kg = st.number_input('Weight (kg)', min_value=45, max_value=120)\n",
    "            \n",
    "        st.subheader('Skills and abilities')\n",
    "        col4, col5, col6, col7 = st.columns(4)\n",
    "        \n",
    "        with col4:\n",
    "            potential = st.number_input('Potential (1-5)', min_value=1, max_value=5)\n",
    "            skill_moves = st.number_input('Skill moves (1-5)', min_value=1, max_value=5)\n",
    "            weak_foot = st.number_input('Weak_foot (1-5)', min_value=1, max_value=5)\n",
    "        with col5:\n",
    "            international_reputation = st.number_input('International reputation (0-5)', min_value=0, max_value=5)\n",
    "            pace = st.number_input('Pace (0-100)', min_value=0, max_value=100)\n",
    "            shooting = st.number_input('Shooting (0-100)', min_value=0, max_value=100)\n",
    "        with col6:\n",
    "            passing = st.number_input('Passing (0-100)', min_value=0, max_value=100)\n",
    "            Dribbling = st.number_input('Dribbling (0-100)', min_value=0, max_value=100)\n",
    "            defending = st.number_input('Defending (0-100)', min_value=0, max_value=100)\n",
    "        with col7:\n",
    "            physical = st.number_input('Physical (0-100)', min_value=0, max_value=100)\n",
    "        \n",
    "        \n",
    "        #submit button\n",
    "        submitted = st.form_submit_button('Predict Rating')\n",
    "        \n",
    "        \n",
    "    #information processing\n",
    "    if submitted:\n",
    "        input = pd.DataFrame({\n",
    "            'age':[age],\n",
    "            'height':[height_cm]\n",
    "            'weight':[weight_kg]\n",
    "            'potential':[potential]\n",
    "            'international__reputation':[international_reputation]\n",
    "            'skill_moves':[skill_moves]\n",
    "            'weak_foot':[weak_foot]\n",
    "            'pace':[pace]\n",
    "            'shooting':[shooting]\n",
    "            'passing':[passing]\n",
    "            'dribbling':[dribbling]\n",
    "            'defending':[defending]\n",
    "            'physical':[physical]\n",
    "        })\n",
    "        \n",
    "        #matching the trained model columns with the input columns\n",
    "        input_columns = ['age', 'height_cm', 'weight_cm', 'potential', 'skill_moves', 'weak_foot', 'pace', 'shooting', 'passing']\n",
    "        for col in input_columns:\n",
    "            if col not in input.columns:\n",
    "                input[col] = 0\n",
    "                \n",
    "                \n",
    "        prediction = prediction_and_confidence(input)\n",
    "        st.subheader('Prediction Results:')\n",
    "        st.write(f'Predicted Player Rating: {prediction[0]})\n",
    "             \n",
    "if __name__ == '__main__'\n",
    "             main()\n",
    "    "
   ]
  }
 ],
 "metadata": {
  "kernelspec": {
   "display_name": "Python 3 (ipykernel)",
   "language": "python",
   "name": "python3"
  },
  "language_info": {
   "codemirror_mode": {
    "name": "ipython",
    "version": 3
   },
   "file_extension": ".py",
   "mimetype": "text/x-python",
   "name": "python",
   "nbconvert_exporter": "python",
   "pygments_lexer": "ipython3",
   "version": "3.11.7"
  }
 },
 "nbformat": 4,
 "nbformat_minor": 5
}
